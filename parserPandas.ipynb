{
 "cells": [
  {
   "cell_type": "code",
   "execution_count": 1,
   "metadata": {},
   "outputs": [],
   "source": [
    "import pandas as pd\n",
    "import numpy as np\n",
    "import csv"
   ]
  },
  {
   "cell_type": "code",
   "execution_count": 5,
   "metadata": {},
   "outputs": [
    {
     "name": "stdout",
     "output_type": "stream",
     "text": [
      "     c1    c2    c3  index\n",
      "0  0.50  0.00  0.33    1.0\n",
      "1  1.00  1.00  0.00    2.0\n",
      "2  0.00  1.00  1.00    3.0\n",
      "3  3.00  0.00  0.00    4.0\n",
      "4  0.66  1.66  0.66    5.0\n",
      "5  0.00  0.00  0.00    6.0\n",
      "0    1.0\n",
      "1    1.0\n",
      "2    1.0\n",
      "3    1.0\n",
      "4    1.0\n",
      "5    0.0\n",
      "dtype: float64\n"
     ]
    },
    {
     "data": {
      "text/html": [
       "<div>\n",
       "<style scoped>\n",
       "    .dataframe tbody tr th:only-of-type {\n",
       "        vertical-align: middle;\n",
       "    }\n",
       "\n",
       "    .dataframe tbody tr th {\n",
       "        vertical-align: top;\n",
       "    }\n",
       "\n",
       "    .dataframe thead th {\n",
       "        text-align: right;\n",
       "    }\n",
       "</style>\n",
       "<table border=\"1\" class=\"dataframe\">\n",
       "  <thead>\n",
       "    <tr style=\"text-align: right;\">\n",
       "      <th></th>\n",
       "      <th>c1</th>\n",
       "      <th>c2</th>\n",
       "      <th>c3</th>\n",
       "      <th>index</th>\n",
       "    </tr>\n",
       "  </thead>\n",
       "  <tbody>\n",
       "    <tr>\n",
       "      <th>5</th>\n",
       "      <td>0.0</td>\n",
       "      <td>0.0</td>\n",
       "      <td>0.0</td>\n",
       "      <td>6.0</td>\n",
       "    </tr>\n",
       "  </tbody>\n",
       "</table>\n",
       "</div>"
      ],
      "text/plain": [
       "    c1   c2   c3  index\n",
       "5  0.0  0.0  0.0    6.0"
      ]
     },
     "execution_count": 5,
     "metadata": {},
     "output_type": "execute_result"
    }
   ],
   "source": [
    "#testExample\n",
    "index = pd.Series(data=[1.0,2.0,3.0,4.0,5.0,6.0])\n",
    "#print (index)\n",
    "a = pd.Series(data=[0.5,1.0,0.0,3.0,0.66,0.0])\n",
    "#print (a)\n",
    "b = pd.Series(data=[0.0,1.0,1.0,0.0,1.66,0.0])\n",
    "#print (b)\n",
    "c = pd.Series(data=[0.33,0.0,1.0,0.0,0.66,0.0])\n",
    "#print (c)\n",
    "dex1 = pd.DataFrame(data={'index':index,'c1':a,'c2':b,'c3':c})\n",
    "print (dex1)\n",
    "column = ['c1','c2']\n",
    "dex = dex1.loc[:,column]\n",
    "dex[dex > 0.0 ] = 1.0\n",
    "#print (dex)\n",
    "#sumValuee = dex.sum(axis=0)\n",
    "#sume  = sumValuee.sort_values(ascending=False)\n",
    "#print (sume)\n",
    "#dfe = dex.loc[:,['c1','c3']]\n",
    "sumColValue2 = dex.sum(axis=1)\n",
    "sumColValue2[sumColValue2 >= 1.0] = 1.0\n",
    "print (sumColValue2)\n",
    "dex1[sumColValue2 ==0.0]\n",
    "#sumColValue2.sum()"
   ]
  },
  {
   "cell_type": "code",
   "execution_count": 3,
   "metadata": {},
   "outputs": [
    {
     "name": "stdout",
     "output_type": "stream",
     "text": [
      "1 2379.0\n",
      "2 2748.0\n",
      "3 2875.0\n",
      "4 2949.0\n",
      "5 2955.0\n",
      "6 2955.0\n",
      "7 2955.0\n",
      "8 2985.0\n",
      "9 2992.0\n",
      "10 3000.0\n",
      "11 3001.0\n",
      "12 3003.0\n",
      "13 3011.0\n",
      "14 3032.0\n",
      "15 3036.0\n",
      "16 3036.0\n",
      "17 3038.0\n",
      "18 3041.0\n",
      "19 3041.0\n",
      "20 3041.0\n"
     ]
    }
   ],
   "source": [
    "df = pd.read_csv('questionfeatures_new.csv',) #change this value\n",
    "dfScore = pd.read_csv('prfCalculator.csv') #change this value\n",
    "ofile = open('test.csv','w') #change this value\n",
    "total_component = 20 #change this value\n",
    "by_index = 2 #change this Valuek\n",
    "#print (df.columns)\n",
    "#print (len(dfScore.columns))\n",
    "dfs = dfScore.iloc[2:3,1:].copy()\n",
    "sorted_col = dfs.sort_values(by=[by_index], axis=1, ascending=False)\n",
    "\n",
    "#print (sorted_col.columns.tolist())\n",
    "#topComponent = sorted_col.columns.tolist()[0:total_component]\n",
    "topComponent = sorted_col.columns.tolist()\n",
    "#print (len(topComponent))\n",
    "\n",
    "df1 = df.fillna(0.0)\n",
    "df2 = df1.loc[:,topComponent]\n",
    "df3= df2.copy()\n",
    "df3[df3 > 0 ] = 1.0\n",
    "#print (df3.head(5))\n",
    "\n",
    "##IndexSum for all componnent\n",
    "#df_2 = df3.loc[:,[topComponent[0],topComponent[1]]]\n",
    "#sumColValue2 = df_2.sum(axis=1)\n",
    "#sumColValue2[sumColValue2 >= 1.0] = 1.0\n",
    "#print (sumColValue2.sum())\n",
    "\n",
    "f= lambda n:[topComponent[i] for i in range(n)]\n",
    "writer  = csv.writer(ofile, quoting=csv.QUOTE_ALL)\n",
    "for n in range(1,total_component+1):\n",
    "    df_2 = df3.loc[:,f(n)]\n",
    "    sumColValue = df_2.sum(axis=1)\n",
    "    sumColValue[sumColValue >= 1.0] = 1.0\n",
    "    #print (f(n))\n",
    "    ltop = len(f(n))\n",
    "    ltotalAns = sumColValue.sum()\n",
    "    print (ltop, ltotalAns)\n",
    "    writer.writerow([ltop,ltotalAns])\n",
    "    \n",
    "    \n"
   ]
  },
  {
   "cell_type": "code",
   "execution_count": 34,
   "metadata": {},
   "outputs": [
    {
     "name": "stdout",
     "output_type": "stream",
     "text": [
      "Index(['QuestionID', 'Question', 'TripleSize', 'RelationTotal',\n",
      "       'ResourceTotal', 'ClassTotal', 'QuestionLength', 'Resources',\n",
      "       'WordCountEntity1', 'AvgWordCount', 'Special Character', 'Explicit E1',\n",
      "       'Explicit E1 and E2', 'Capital/Small Letters E1',\n",
      "       'Capital letter E1 and E2', 'aylienNERagdistis', 'tagmeNEDlogs',\n",
      "       'DBpediaNERAgdistis3252', 'ambiverseNEDlogs', 'meaningcloudAgdistis',\n",
      "       'qanary_logs_DBpediaSpotlightNED', 'meaningCloudNEDnew',\n",
      "       'textrazorAgdistis', 'dandiNERAgdistisFINAL', 'dandilionNEDlogs',\n",
      "       'OntotextNEDlogs', 'babelfyAgdistis3000', 'ambiverseAgdistis',\n",
      "       'tagmeAgdistis', 'EntityClassifier_NER_Agdistis', 'newBabelfyNEDlogs',\n",
      "       'stanfordAgdistis', 'ontotextAgdistis', 'AmbiverseNED 2.0',\n",
      "       'AmbiverseStanford 2.0'],\n",
      "      dtype='object')\n"
     ]
    }
   ],
   "source": [
    "df = pd.read_csv('AllFeature_E1_E2.csv',) #change this value\n",
    "columns = ['aylienNERagdistis', 'tagmeNEDlogs', #to change\n",
    "       'DBpediaNERAgdistis3252', 'ambiverseNEDlogs', 'meaningcloudAgdistis',\n",
    "       'qanary_logs_DBpediaSpotlightNED', 'meaningCloudNEDnew',\n",
    "       'textrazorAgdistis', 'dandiNERAgdistisFINAL', 'dandilionNEDlogs',\n",
    "       'OntotextNEDlogs', 'babelfyAgdistis3000', 'ambiverseAgdistis',\n",
    "       'tagmeAgdistis', 'EntityClassifier_NER_Agdistis', 'newBabelfyNEDlogs',\n",
    "       'stanfordAgdistis', 'ontotextAgdistis', 'AmbiverseNED 2.0',\n",
    "       'AmbiverseStanford 2.0']\n",
    "print (df.columns)\n",
    "'''columns= ['relnliodLogs',\n",
    "       'qanary_component-DiambiguationProperty-OKBQA',\n",
    "       'qanary_component-AnnotationofSpotProperty', 'K-cap', 'isiah']'''\n",
    "#columns=['disambiguationClass', 'CLSNLIOD']\n",
    "'''columns=['Dharmen', 'SINA']'''\n",
    "#print (columns)\n",
    "ofile = open('test.csv','w') #change this value\n",
    "total_component = 20 #change this value\n",
    "df1 = df.fillna(0.0)\n",
    "df2 = df1.loc[:,columns]\n",
    "df2[df2 > 0.0 ] = 1.0\n",
    "\n",
    "f= lambda n:[topComponent[i] for i in range(n)]\n",
    "writer  = csv.writer(ofile, quoting=csv.QUOTE_ALL)\n",
    "sumColValue2 = df2.sum(axis=1)\n",
    "sumColValue2[sumColValue2 >= 1.0] = 1.0\n",
    "#print (sumColValue2)\n",
    "df1 = df1[sumColValue2 == 0.0]\n",
    "#print (df1.head(5))\n",
    "df1.to_csv('test.csv')"
   ]
  },
  {
   "cell_type": "code",
   "execution_count": null,
   "metadata": {},
   "outputs": [],
   "source": []
  },
  {
   "cell_type": "code",
   "execution_count": null,
   "metadata": {},
   "outputs": [],
   "source": []
  }
 ],
 "metadata": {
  "kernelspec": {
   "display_name": "Python 3",
   "language": "python",
   "name": "python3"
  },
  "language_info": {
   "codemirror_mode": {
    "name": "ipython",
    "version": 3
   },
   "file_extension": ".py",
   "mimetype": "text/x-python",
   "name": "python",
   "nbconvert_exporter": "python",
   "pygments_lexer": "ipython3",
   "version": "3.5.2"
  }
 },
 "nbformat": 4,
 "nbformat_minor": 2
}
